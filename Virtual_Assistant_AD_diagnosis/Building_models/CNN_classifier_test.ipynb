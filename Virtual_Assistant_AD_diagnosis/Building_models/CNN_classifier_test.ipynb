{
 "cells": [
  {
   "cell_type": "markdown",
   "metadata": {},
   "source": [
    "# Testing the model"
   ]
  },
  {
   "cell_type": "markdown",
   "metadata": {},
   "source": [
    "### Load the model"
   ]
  },
  {
   "cell_type": "code",
   "execution_count": 2,
   "metadata": {},
   "outputs": [
    {
     "name": "stdout",
     "output_type": "stream",
     "text": [
      "Model: \"sequential\"\n",
      "_________________________________________________________________\n",
      "Layer (type)                 Output Shape              Param #   \n",
      "=================================================================\n",
      "conv2d (Conv2D)              (None, 208, 176, 5)       185       \n",
      "_________________________________________________________________\n",
      "max_pooling2d (MaxPooling2D) (None, 104, 88, 5)        0         \n",
      "_________________________________________________________________\n",
      "conv2d_1 (Conv2D)            (None, 104, 88, 15)       315       \n",
      "_________________________________________________________________\n",
      "max_pooling2d_1 (MaxPooling2 (None, 52, 44, 15)        0         \n",
      "_________________________________________________________________\n",
      "flatten (Flatten)            (None, 34320)             0         \n",
      "_________________________________________________________________\n",
      "dense (Dense)                (None, 500)               17160500  \n",
      "_________________________________________________________________\n",
      "batch_normalization (BatchNo (None, 500)               2000      \n",
      "_________________________________________________________________\n",
      "dropout (Dropout)            (None, 500)               0         \n",
      "_________________________________________________________________\n",
      "dense_1 (Dense)              (None, 700)               350700    \n",
      "_________________________________________________________________\n",
      "batch_normalization_1 (Batch (None, 700)               2800      \n",
      "_________________________________________________________________\n",
      "dropout_1 (Dropout)          (None, 700)               0         \n",
      "_________________________________________________________________\n",
      "dense_2 (Dense)              (None, 100)               70100     \n",
      "_________________________________________________________________\n",
      "batch_normalization_2 (Batch (None, 100)               400       \n",
      "_________________________________________________________________\n",
      "dropout_2 (Dropout)          (None, 100)               0         \n",
      "_________________________________________________________________\n",
      "dense_3 (Dense)              (None, 4)                 404       \n",
      "=================================================================\n",
      "Total params: 17,587,404\n",
      "Trainable params: 17,584,804\n",
      "Non-trainable params: 2,600\n",
      "_________________________________________________________________\n"
     ]
    }
   ],
   "source": [
    "from tensorflow.keras.models import load_model\n",
    "model_loaded = load_model(\"RSP_weights_C.h5\")\n",
    "model_loaded.summary()"
   ]
  },
  {
   "cell_type": "markdown",
   "metadata": {},
   "source": [
    "### Import the needed packages"
   ]
  },
  {
   "cell_type": "code",
   "execution_count": 3,
   "metadata": {},
   "outputs": [],
   "source": [
    "import numpy as np\n",
    "import pandas as pd\n",
    "import matplotlib.pyplot as plt "
   ]
  },
  {
   "cell_type": "code",
   "execution_count": 4,
   "metadata": {},
   "outputs": [],
   "source": [
    "from tensorflow.keras.preprocessing.image import load_img\n",
    "from tensorflow.keras.preprocessing.image import img_to_array "
   ]
  },
  {
   "cell_type": "markdown",
   "metadata": {},
   "source": [
    "### Import test images and assign category"
   ]
  },
  {
   "cell_type": "code",
   "execution_count": 7,
   "metadata": {},
   "outputs": [],
   "source": [
    "base_path = \"../data/alzheimer_mri/test\"\n",
    "classes = [\"VeryMildDemented\", \"NonDemented\", \"ModerateDemented\", \"MildDemented\"]\n",
    "\n",
    "X_test =[]\n",
    "y_true= []\n",
    "images=[]\n",
    "\n",
    "for i, target in enumerate(classes):\n",
    "    files = os.listdir(f\"{base_path}/{target}\")\n",
    "    for file in files:\n",
    "        image_path=f\"{base_path}/{target}/{file}\"\n",
    "        #Load image\n",
    "        image = load_img(image_path, color_mode=\"grayscale\")\n",
    "        #Convert image to array \n",
    "        image_array = img_to_array(image)\n",
    "        #Append to X\n",
    "        X_test.append(image_array)\n",
    "        # append the numeric target to y\n",
    "        y_true.append(i)\n",
    "\n",
    "#Concert to array \n",
    "X_test_array = np.array(X_test)\n",
    "y_ture_array = np.array(y_true)"
   ]
  },
  {
   "cell_type": "code",
   "execution_count": 8,
   "metadata": {},
   "outputs": [
    {
     "data": {
      "text/plain": [
       "(1279, 208, 176, 1)"
      ]
     },
     "execution_count": 8,
     "metadata": {},
     "output_type": "execute_result"
    }
   ],
   "source": [
    "X_test_array.shape"
   ]
  },
  {
   "cell_type": "markdown",
   "metadata": {},
   "source": [
    "### Make prediction on test images based on previously trained CNN model"
   ]
  },
  {
   "cell_type": "code",
   "execution_count": 9,
   "metadata": {},
   "outputs": [],
   "source": [
    "y_pred = model_loaded.predict(X_test_array)"
   ]
  },
  {
   "cell_type": "code",
   "execution_count": 11,
   "metadata": {},
   "outputs": [],
   "source": [
    "#Assign true labels\n",
    "\n",
    "y_true_labels=[]\n",
    "for i in y_true:\n",
    "    if i ==0:\n",
    "        y_true_label = \"VeryMildDemented\"\n",
    "        y_true_labels.append(y_true_label) \n",
    "    elif i ==1:    \n",
    "        y_true_label =\"NonDemented\"\n",
    "        y_true_labels.append(y_true_label) \n",
    "    elif i ==2:    \n",
    "        y_true_label =\"ModerateDemented\"\n",
    "        y_true_labels.append(y_true_label)\n",
    "    elif i ==3:    \n",
    "        y_true_label =\"MildDemented\"\n",
    "        y_true_labels.append(y_true_label)\n",
    "    else:\n",
    "        y_true_label = \"prediction (y) not properly assigned\"\n",
    "        y_true_labels.append(y_true_label)"
   ]
  },
  {
   "cell_type": "code",
   "execution_count": 12,
   "metadata": {},
   "outputs": [],
   "source": [
    "#Assign predicted labels and the probability\n",
    "\n",
    "y_pred_labels=[]\n",
    "#suggested_category=[]\n",
    "likelyhood = [] \n",
    "for i in y_pred:\n",
    "    perc = round((np.max(i)*100), 2)\n",
    "    likelyhood.append(perc)\n",
    "    if np.argmax(i) ==0:\n",
    "        ypred_label = \"VeryMildDemented\" \n",
    "        y_pred_labels.append(ypred_label)\n",
    "    elif np.argmax(i) ==1:\n",
    "        ypred_label = \"NonDemented\" \n",
    "        y_pred_labels.append(ypred_label)\n",
    "    elif np.argmax(i) ==2:\n",
    "        ypred_label = \"ModerateDemented\"\n",
    "        y_pred_labels.append(ypred_label)\n",
    "    elif np.argmax(i) ==3:\n",
    "        ypred_label = \"MildDemented\"\n",
    "        y_pred_labels.append(ypred_label)     \n",
    "    else:\n",
    "        ypred_label = \"prediction (y) not properly assigned\"\n",
    "y_pred_df = pd.DataFrame(list(zip(y_pred_labels, likelyhood, y_true_labels)), columns=[\"prediction\", \"likelyhood\", \"true label\"])"
   ]
  },
  {
   "cell_type": "markdown",
   "metadata": {},
   "source": [
    "### Explore the prediction in a dataframe"
   ]
  },
  {
   "cell_type": "code",
   "execution_count": 13,
   "metadata": {},
   "outputs": [
    {
     "data": {
      "text/html": [
       "<div>\n",
       "<style scoped>\n",
       "    .dataframe tbody tr th:only-of-type {\n",
       "        vertical-align: middle;\n",
       "    }\n",
       "\n",
       "    .dataframe tbody tr th {\n",
       "        vertical-align: top;\n",
       "    }\n",
       "\n",
       "    .dataframe thead th {\n",
       "        text-align: right;\n",
       "    }\n",
       "</style>\n",
       "<table border=\"1\" class=\"dataframe\">\n",
       "  <thead>\n",
       "    <tr style=\"text-align: right;\">\n",
       "      <th></th>\n",
       "      <th>prediction</th>\n",
       "      <th>likelyhood</th>\n",
       "      <th>true label</th>\n",
       "    </tr>\n",
       "  </thead>\n",
       "  <tbody>\n",
       "    <tr>\n",
       "      <th>0</th>\n",
       "      <td>VeryMildDemented</td>\n",
       "      <td>94.02</td>\n",
       "      <td>VeryMildDemented</td>\n",
       "    </tr>\n",
       "    <tr>\n",
       "      <th>1</th>\n",
       "      <td>MildDemented</td>\n",
       "      <td>53.60</td>\n",
       "      <td>VeryMildDemented</td>\n",
       "    </tr>\n",
       "    <tr>\n",
       "      <th>2</th>\n",
       "      <td>VeryMildDemented</td>\n",
       "      <td>98.98</td>\n",
       "      <td>VeryMildDemented</td>\n",
       "    </tr>\n",
       "    <tr>\n",
       "      <th>3</th>\n",
       "      <td>VeryMildDemented</td>\n",
       "      <td>99.96</td>\n",
       "      <td>VeryMildDemented</td>\n",
       "    </tr>\n",
       "    <tr>\n",
       "      <th>4</th>\n",
       "      <td>VeryMildDemented</td>\n",
       "      <td>98.77</td>\n",
       "      <td>VeryMildDemented</td>\n",
       "    </tr>\n",
       "    <tr>\n",
       "      <th>...</th>\n",
       "      <td>...</td>\n",
       "      <td>...</td>\n",
       "      <td>...</td>\n",
       "    </tr>\n",
       "    <tr>\n",
       "      <th>1274</th>\n",
       "      <td>MildDemented</td>\n",
       "      <td>88.42</td>\n",
       "      <td>MildDemented</td>\n",
       "    </tr>\n",
       "    <tr>\n",
       "      <th>1275</th>\n",
       "      <td>MildDemented</td>\n",
       "      <td>73.18</td>\n",
       "      <td>MildDemented</td>\n",
       "    </tr>\n",
       "    <tr>\n",
       "      <th>1276</th>\n",
       "      <td>MildDemented</td>\n",
       "      <td>51.35</td>\n",
       "      <td>MildDemented</td>\n",
       "    </tr>\n",
       "    <tr>\n",
       "      <th>1277</th>\n",
       "      <td>VeryMildDemented</td>\n",
       "      <td>91.52</td>\n",
       "      <td>MildDemented</td>\n",
       "    </tr>\n",
       "    <tr>\n",
       "      <th>1278</th>\n",
       "      <td>MildDemented</td>\n",
       "      <td>99.47</td>\n",
       "      <td>MildDemented</td>\n",
       "    </tr>\n",
       "  </tbody>\n",
       "</table>\n",
       "<p>1279 rows × 3 columns</p>\n",
       "</div>"
      ],
      "text/plain": [
       "            prediction  likelyhood        true label\n",
       "0     VeryMildDemented       94.02  VeryMildDemented\n",
       "1         MildDemented       53.60  VeryMildDemented\n",
       "2     VeryMildDemented       98.98  VeryMildDemented\n",
       "3     VeryMildDemented       99.96  VeryMildDemented\n",
       "4     VeryMildDemented       98.77  VeryMildDemented\n",
       "...                ...         ...               ...\n",
       "1274      MildDemented       88.42      MildDemented\n",
       "1275      MildDemented       73.18      MildDemented\n",
       "1276      MildDemented       51.35      MildDemented\n",
       "1277  VeryMildDemented       91.52      MildDemented\n",
       "1278      MildDemented       99.47      MildDemented\n",
       "\n",
       "[1279 rows x 3 columns]"
      ]
     },
     "execution_count": 13,
     "metadata": {},
     "output_type": "execute_result"
    }
   ],
   "source": [
    "y_pred_df"
   ]
  },
  {
   "cell_type": "code",
   "execution_count": 14,
   "metadata": {},
   "outputs": [],
   "source": [
    "#define conditions\n",
    "conditions = [\n",
    "    y_pred_df['prediction'] == y_pred_df['true label'],\n",
    "    y_pred_df['prediction'] != y_pred_df['true label']\n",
    "    ]\n",
    "\n",
    "#define choices\n",
    "category = [1, 0] #1 - correct; 0 -false \n",
    "\n",
    "#create new column in DataFrame that displays results of comparisons\n",
    "y_pred_df[\"correct\"]=np.select(conditions, category, default=0) "
   ]
  },
  {
   "cell_type": "code",
   "execution_count": 15,
   "metadata": {},
   "outputs": [
    {
     "data": {
      "text/html": [
       "<div>\n",
       "<style scoped>\n",
       "    .dataframe tbody tr th:only-of-type {\n",
       "        vertical-align: middle;\n",
       "    }\n",
       "\n",
       "    .dataframe tbody tr th {\n",
       "        vertical-align: top;\n",
       "    }\n",
       "\n",
       "    .dataframe thead th {\n",
       "        text-align: right;\n",
       "    }\n",
       "</style>\n",
       "<table border=\"1\" class=\"dataframe\">\n",
       "  <thead>\n",
       "    <tr style=\"text-align: right;\">\n",
       "      <th></th>\n",
       "      <th>prediction</th>\n",
       "      <th>likelyhood</th>\n",
       "      <th>true label</th>\n",
       "      <th>correct</th>\n",
       "    </tr>\n",
       "  </thead>\n",
       "  <tbody>\n",
       "    <tr>\n",
       "      <th>0</th>\n",
       "      <td>VeryMildDemented</td>\n",
       "      <td>94.02</td>\n",
       "      <td>VeryMildDemented</td>\n",
       "      <td>1</td>\n",
       "    </tr>\n",
       "    <tr>\n",
       "      <th>1</th>\n",
       "      <td>MildDemented</td>\n",
       "      <td>53.60</td>\n",
       "      <td>VeryMildDemented</td>\n",
       "      <td>0</td>\n",
       "    </tr>\n",
       "    <tr>\n",
       "      <th>2</th>\n",
       "      <td>VeryMildDemented</td>\n",
       "      <td>98.98</td>\n",
       "      <td>VeryMildDemented</td>\n",
       "      <td>1</td>\n",
       "    </tr>\n",
       "    <tr>\n",
       "      <th>3</th>\n",
       "      <td>VeryMildDemented</td>\n",
       "      <td>99.96</td>\n",
       "      <td>VeryMildDemented</td>\n",
       "      <td>1</td>\n",
       "    </tr>\n",
       "    <tr>\n",
       "      <th>4</th>\n",
       "      <td>VeryMildDemented</td>\n",
       "      <td>98.77</td>\n",
       "      <td>VeryMildDemented</td>\n",
       "      <td>1</td>\n",
       "    </tr>\n",
       "    <tr>\n",
       "      <th>...</th>\n",
       "      <td>...</td>\n",
       "      <td>...</td>\n",
       "      <td>...</td>\n",
       "      <td>...</td>\n",
       "    </tr>\n",
       "    <tr>\n",
       "      <th>1274</th>\n",
       "      <td>MildDemented</td>\n",
       "      <td>88.42</td>\n",
       "      <td>MildDemented</td>\n",
       "      <td>1</td>\n",
       "    </tr>\n",
       "    <tr>\n",
       "      <th>1275</th>\n",
       "      <td>MildDemented</td>\n",
       "      <td>73.18</td>\n",
       "      <td>MildDemented</td>\n",
       "      <td>1</td>\n",
       "    </tr>\n",
       "    <tr>\n",
       "      <th>1276</th>\n",
       "      <td>MildDemented</td>\n",
       "      <td>51.35</td>\n",
       "      <td>MildDemented</td>\n",
       "      <td>1</td>\n",
       "    </tr>\n",
       "    <tr>\n",
       "      <th>1277</th>\n",
       "      <td>VeryMildDemented</td>\n",
       "      <td>91.52</td>\n",
       "      <td>MildDemented</td>\n",
       "      <td>0</td>\n",
       "    </tr>\n",
       "    <tr>\n",
       "      <th>1278</th>\n",
       "      <td>MildDemented</td>\n",
       "      <td>99.47</td>\n",
       "      <td>MildDemented</td>\n",
       "      <td>1</td>\n",
       "    </tr>\n",
       "  </tbody>\n",
       "</table>\n",
       "<p>1279 rows × 4 columns</p>\n",
       "</div>"
      ],
      "text/plain": [
       "            prediction  likelyhood        true label  correct\n",
       "0     VeryMildDemented       94.02  VeryMildDemented        1\n",
       "1         MildDemented       53.60  VeryMildDemented        0\n",
       "2     VeryMildDemented       98.98  VeryMildDemented        1\n",
       "3     VeryMildDemented       99.96  VeryMildDemented        1\n",
       "4     VeryMildDemented       98.77  VeryMildDemented        1\n",
       "...                ...         ...               ...      ...\n",
       "1274      MildDemented       88.42      MildDemented        1\n",
       "1275      MildDemented       73.18      MildDemented        1\n",
       "1276      MildDemented       51.35      MildDemented        1\n",
       "1277  VeryMildDemented       91.52      MildDemented        0\n",
       "1278      MildDemented       99.47      MildDemented        1\n",
       "\n",
       "[1279 rows x 4 columns]"
      ]
     },
     "execution_count": 15,
     "metadata": {},
     "output_type": "execute_result"
    }
   ],
   "source": [
    "#Check if the predictions were correct (1/0)\n",
    "\n",
    "y_pred_df"
   ]
  },
  {
   "cell_type": "code",
   "execution_count": 17,
   "metadata": {},
   "outputs": [
    {
     "data": {
      "text/plain": [
       "1    730\n",
       "0    549\n",
       "Name: correct, dtype: int64"
      ]
     },
     "execution_count": 17,
     "metadata": {},
     "output_type": "execute_result"
    }
   ],
   "source": [
    "prediction_counts = y_pred_df['correct'].value_counts()\n",
    "prediction_counts"
   ]
  },
  {
   "cell_type": "code",
   "execution_count": 20,
   "metadata": {},
   "outputs": [
    {
     "name": "stdout",
     "output_type": "stream",
     "text": [
      "The model predicted 57.08% of the unseen test images class\n"
     ]
    }
   ],
   "source": [
    "corr_perc=round((prediction_counts[1]/(prediction_counts[1]+prediction_counts[0]))*100, 2)\n",
    "print(f\"The model predicted {corr_perc}% of the unseen test images class\")"
   ]
  },
  {
   "cell_type": "code",
   "execution_count": 23,
   "metadata": {},
   "outputs": [],
   "source": [
    "#define conditions\n",
    "conditions_2 = [\n",
    "    ((y_pred_df['prediction'].isin([\"VeryMildDemented\", \"ModerateDemented\", \"MildDemented\"])) &\n",
    "    (y_pred_df['true label'].isin([\"VeryMildDemented\", \"ModerateDemented\", \"MildDemented\"]))),\n",
    "    ((y_pred_df['prediction'] == \"NonDemented\" ) &\n",
    "    (y_pred_df['true label'] == \"NonDemented\")),\n",
    "    ]\n",
    "\n",
    "#define choices\n",
    "category_2 = [1, 1] #1 - correct; 1 - correct\n",
    "\n",
    "#create new column in DataFrame that displays results of comparisons\n",
    "y_pred_df[\"correct_demented\"]=np.select(conditions_2, category_2, default=0) "
   ]
  },
  {
   "cell_type": "code",
   "execution_count": 24,
   "metadata": {},
   "outputs": [
    {
     "data": {
      "text/html": [
       "<div>\n",
       "<style scoped>\n",
       "    .dataframe tbody tr th:only-of-type {\n",
       "        vertical-align: middle;\n",
       "    }\n",
       "\n",
       "    .dataframe tbody tr th {\n",
       "        vertical-align: top;\n",
       "    }\n",
       "\n",
       "    .dataframe thead th {\n",
       "        text-align: right;\n",
       "    }\n",
       "</style>\n",
       "<table border=\"1\" class=\"dataframe\">\n",
       "  <thead>\n",
       "    <tr style=\"text-align: right;\">\n",
       "      <th></th>\n",
       "      <th>prediction</th>\n",
       "      <th>likelyhood</th>\n",
       "      <th>true label</th>\n",
       "      <th>correct</th>\n",
       "      <th>correct_demented</th>\n",
       "    </tr>\n",
       "  </thead>\n",
       "  <tbody>\n",
       "    <tr>\n",
       "      <th>0</th>\n",
       "      <td>VeryMildDemented</td>\n",
       "      <td>94.02</td>\n",
       "      <td>VeryMildDemented</td>\n",
       "      <td>1</td>\n",
       "      <td>1</td>\n",
       "    </tr>\n",
       "    <tr>\n",
       "      <th>1</th>\n",
       "      <td>MildDemented</td>\n",
       "      <td>53.60</td>\n",
       "      <td>VeryMildDemented</td>\n",
       "      <td>0</td>\n",
       "      <td>1</td>\n",
       "    </tr>\n",
       "    <tr>\n",
       "      <th>2</th>\n",
       "      <td>VeryMildDemented</td>\n",
       "      <td>98.98</td>\n",
       "      <td>VeryMildDemented</td>\n",
       "      <td>1</td>\n",
       "      <td>1</td>\n",
       "    </tr>\n",
       "    <tr>\n",
       "      <th>3</th>\n",
       "      <td>VeryMildDemented</td>\n",
       "      <td>99.96</td>\n",
       "      <td>VeryMildDemented</td>\n",
       "      <td>1</td>\n",
       "      <td>1</td>\n",
       "    </tr>\n",
       "    <tr>\n",
       "      <th>4</th>\n",
       "      <td>VeryMildDemented</td>\n",
       "      <td>98.77</td>\n",
       "      <td>VeryMildDemented</td>\n",
       "      <td>1</td>\n",
       "      <td>1</td>\n",
       "    </tr>\n",
       "    <tr>\n",
       "      <th>...</th>\n",
       "      <td>...</td>\n",
       "      <td>...</td>\n",
       "      <td>...</td>\n",
       "      <td>...</td>\n",
       "      <td>...</td>\n",
       "    </tr>\n",
       "    <tr>\n",
       "      <th>1274</th>\n",
       "      <td>MildDemented</td>\n",
       "      <td>88.42</td>\n",
       "      <td>MildDemented</td>\n",
       "      <td>1</td>\n",
       "      <td>1</td>\n",
       "    </tr>\n",
       "    <tr>\n",
       "      <th>1275</th>\n",
       "      <td>MildDemented</td>\n",
       "      <td>73.18</td>\n",
       "      <td>MildDemented</td>\n",
       "      <td>1</td>\n",
       "      <td>1</td>\n",
       "    </tr>\n",
       "    <tr>\n",
       "      <th>1276</th>\n",
       "      <td>MildDemented</td>\n",
       "      <td>51.35</td>\n",
       "      <td>MildDemented</td>\n",
       "      <td>1</td>\n",
       "      <td>1</td>\n",
       "    </tr>\n",
       "    <tr>\n",
       "      <th>1277</th>\n",
       "      <td>VeryMildDemented</td>\n",
       "      <td>91.52</td>\n",
       "      <td>MildDemented</td>\n",
       "      <td>0</td>\n",
       "      <td>1</td>\n",
       "    </tr>\n",
       "    <tr>\n",
       "      <th>1278</th>\n",
       "      <td>MildDemented</td>\n",
       "      <td>99.47</td>\n",
       "      <td>MildDemented</td>\n",
       "      <td>1</td>\n",
       "      <td>1</td>\n",
       "    </tr>\n",
       "  </tbody>\n",
       "</table>\n",
       "<p>1279 rows × 5 columns</p>\n",
       "</div>"
      ],
      "text/plain": [
       "            prediction  likelyhood        true label  correct  \\\n",
       "0     VeryMildDemented       94.02  VeryMildDemented        1   \n",
       "1         MildDemented       53.60  VeryMildDemented        0   \n",
       "2     VeryMildDemented       98.98  VeryMildDemented        1   \n",
       "3     VeryMildDemented       99.96  VeryMildDemented        1   \n",
       "4     VeryMildDemented       98.77  VeryMildDemented        1   \n",
       "...                ...         ...               ...      ...   \n",
       "1274      MildDemented       88.42      MildDemented        1   \n",
       "1275      MildDemented       73.18      MildDemented        1   \n",
       "1276      MildDemented       51.35      MildDemented        1   \n",
       "1277  VeryMildDemented       91.52      MildDemented        0   \n",
       "1278      MildDemented       99.47      MildDemented        1   \n",
       "\n",
       "      correct_demented  \n",
       "0                    1  \n",
       "1                    1  \n",
       "2                    1  \n",
       "3                    1  \n",
       "4                    1  \n",
       "...                ...  \n",
       "1274                 1  \n",
       "1275                 1  \n",
       "1276                 1  \n",
       "1277                 1  \n",
       "1278                 1  \n",
       "\n",
       "[1279 rows x 5 columns]"
      ]
     },
     "execution_count": 24,
     "metadata": {},
     "output_type": "execute_result"
    }
   ],
   "source": [
    "y_pred_df"
   ]
  },
  {
   "cell_type": "code",
   "execution_count": 25,
   "metadata": {},
   "outputs": [],
   "source": [
    "y_predictions_model_C = y_pred_df"
   ]
  },
  {
   "cell_type": "code",
   "execution_count": 29,
   "metadata": {},
   "outputs": [],
   "source": [
    "y_predictions_model_C.rename(columns = {'prediction':'Predicted label', \n",
    "'likelyhood': 'Likelihood, %', \n",
    "'true label':'True label', \n",
    "'correct':'If the subcategory is assign correctly 1/0', \n",
    "'correct_demented': 'If Dementia is predicted correctly 1/0'}, inplace=True)"
   ]
  },
  {
   "cell_type": "code",
   "execution_count": 30,
   "metadata": {},
   "outputs": [
    {
     "data": {
      "text/html": [
       "<div>\n",
       "<style scoped>\n",
       "    .dataframe tbody tr th:only-of-type {\n",
       "        vertical-align: middle;\n",
       "    }\n",
       "\n",
       "    .dataframe tbody tr th {\n",
       "        vertical-align: top;\n",
       "    }\n",
       "\n",
       "    .dataframe thead th {\n",
       "        text-align: right;\n",
       "    }\n",
       "</style>\n",
       "<table border=\"1\" class=\"dataframe\">\n",
       "  <thead>\n",
       "    <tr style=\"text-align: right;\">\n",
       "      <th></th>\n",
       "      <th>Predicted label</th>\n",
       "      <th>Likelihood, %</th>\n",
       "      <th>True label</th>\n",
       "      <th>If the subcategory is assign correctly 1/0</th>\n",
       "      <th>If Dementia is predicted correctly 1/0</th>\n",
       "    </tr>\n",
       "  </thead>\n",
       "  <tbody>\n",
       "    <tr>\n",
       "      <th>0</th>\n",
       "      <td>VeryMildDemented</td>\n",
       "      <td>94.02</td>\n",
       "      <td>VeryMildDemented</td>\n",
       "      <td>1</td>\n",
       "      <td>1</td>\n",
       "    </tr>\n",
       "    <tr>\n",
       "      <th>1</th>\n",
       "      <td>MildDemented</td>\n",
       "      <td>53.60</td>\n",
       "      <td>VeryMildDemented</td>\n",
       "      <td>0</td>\n",
       "      <td>1</td>\n",
       "    </tr>\n",
       "    <tr>\n",
       "      <th>2</th>\n",
       "      <td>VeryMildDemented</td>\n",
       "      <td>98.98</td>\n",
       "      <td>VeryMildDemented</td>\n",
       "      <td>1</td>\n",
       "      <td>1</td>\n",
       "    </tr>\n",
       "    <tr>\n",
       "      <th>3</th>\n",
       "      <td>VeryMildDemented</td>\n",
       "      <td>99.96</td>\n",
       "      <td>VeryMildDemented</td>\n",
       "      <td>1</td>\n",
       "      <td>1</td>\n",
       "    </tr>\n",
       "    <tr>\n",
       "      <th>4</th>\n",
       "      <td>VeryMildDemented</td>\n",
       "      <td>98.77</td>\n",
       "      <td>VeryMildDemented</td>\n",
       "      <td>1</td>\n",
       "      <td>1</td>\n",
       "    </tr>\n",
       "    <tr>\n",
       "      <th>...</th>\n",
       "      <td>...</td>\n",
       "      <td>...</td>\n",
       "      <td>...</td>\n",
       "      <td>...</td>\n",
       "      <td>...</td>\n",
       "    </tr>\n",
       "    <tr>\n",
       "      <th>1274</th>\n",
       "      <td>MildDemented</td>\n",
       "      <td>88.42</td>\n",
       "      <td>MildDemented</td>\n",
       "      <td>1</td>\n",
       "      <td>1</td>\n",
       "    </tr>\n",
       "    <tr>\n",
       "      <th>1275</th>\n",
       "      <td>MildDemented</td>\n",
       "      <td>73.18</td>\n",
       "      <td>MildDemented</td>\n",
       "      <td>1</td>\n",
       "      <td>1</td>\n",
       "    </tr>\n",
       "    <tr>\n",
       "      <th>1276</th>\n",
       "      <td>MildDemented</td>\n",
       "      <td>51.35</td>\n",
       "      <td>MildDemented</td>\n",
       "      <td>1</td>\n",
       "      <td>1</td>\n",
       "    </tr>\n",
       "    <tr>\n",
       "      <th>1277</th>\n",
       "      <td>VeryMildDemented</td>\n",
       "      <td>91.52</td>\n",
       "      <td>MildDemented</td>\n",
       "      <td>0</td>\n",
       "      <td>1</td>\n",
       "    </tr>\n",
       "    <tr>\n",
       "      <th>1278</th>\n",
       "      <td>MildDemented</td>\n",
       "      <td>99.47</td>\n",
       "      <td>MildDemented</td>\n",
       "      <td>1</td>\n",
       "      <td>1</td>\n",
       "    </tr>\n",
       "  </tbody>\n",
       "</table>\n",
       "<p>1279 rows × 5 columns</p>\n",
       "</div>"
      ],
      "text/plain": [
       "       Predicted label  Likelihood, %        True label  \\\n",
       "0     VeryMildDemented          94.02  VeryMildDemented   \n",
       "1         MildDemented          53.60  VeryMildDemented   \n",
       "2     VeryMildDemented          98.98  VeryMildDemented   \n",
       "3     VeryMildDemented          99.96  VeryMildDemented   \n",
       "4     VeryMildDemented          98.77  VeryMildDemented   \n",
       "...                ...            ...               ...   \n",
       "1274      MildDemented          88.42      MildDemented   \n",
       "1275      MildDemented          73.18      MildDemented   \n",
       "1276      MildDemented          51.35      MildDemented   \n",
       "1277  VeryMildDemented          91.52      MildDemented   \n",
       "1278      MildDemented          99.47      MildDemented   \n",
       "\n",
       "      If the subcategory is assign correctly 1/0  \\\n",
       "0                                              1   \n",
       "1                                              0   \n",
       "2                                              1   \n",
       "3                                              1   \n",
       "4                                              1   \n",
       "...                                          ...   \n",
       "1274                                           1   \n",
       "1275                                           1   \n",
       "1276                                           1   \n",
       "1277                                           0   \n",
       "1278                                           1   \n",
       "\n",
       "      If Dementia is predicted correctly 1/0  \n",
       "0                                          1  \n",
       "1                                          1  \n",
       "2                                          1  \n",
       "3                                          1  \n",
       "4                                          1  \n",
       "...                                      ...  \n",
       "1274                                       1  \n",
       "1275                                       1  \n",
       "1276                                       1  \n",
       "1277                                       1  \n",
       "1278                                       1  \n",
       "\n",
       "[1279 rows x 5 columns]"
      ]
     },
     "execution_count": 30,
     "metadata": {},
     "output_type": "execute_result"
    }
   ],
   "source": [
    "y_predictions_model_C"
   ]
  },
  {
   "cell_type": "code",
   "execution_count": null,
   "metadata": {},
   "outputs": [],
   "source": [
    "#Save the dataframe\n",
    "y_predictions_model_C.to_csv('../data/Testing_CNN_model.csv', index=False)"
   ]
  },
  {
   "cell_type": "code",
   "execution_count": 32,
   "metadata": {},
   "outputs": [
    {
     "data": {
      "text/plain": [
       "1    876\n",
       "0    403\n",
       "Name: If Dementia is predicted correctly 1/0, dtype: int64"
      ]
     },
     "execution_count": 32,
     "metadata": {},
     "output_type": "execute_result"
    }
   ],
   "source": [
    "prediction_demented_counts = y_pred_df['If Dementia is predicted correctly 1/0'].value_counts()\n",
    "prediction_demented_counts"
   ]
  },
  {
   "cell_type": "code",
   "execution_count": 33,
   "metadata": {},
   "outputs": [
    {
     "name": "stdout",
     "output_type": "stream",
     "text": [
      "The model predicted 68.49% of the unseen test images correctly as demented (nondemented)\n"
     ]
    }
   ],
   "source": [
    "corr_demented_perc=round((prediction_demented_counts[1]/(prediction_demented_counts[1]+prediction_demented_counts[0]))*100, 2)\n",
    "print(f\"The model predicted {corr_demented_perc}% of the unseen test images correctly as demented (nondemented)\")"
   ]
  },
  {
   "cell_type": "code",
   "execution_count": null,
   "metadata": {},
   "outputs": [],
   "source": []
  },
  {
   "cell_type": "code",
   "execution_count": null,
   "metadata": {},
   "outputs": [],
   "source": []
  }
 ],
 "metadata": {
  "kernelspec": {
   "display_name": "Python 3.6.13 ('deep_learning_image_classifier')",
   "language": "python",
   "name": "python3"
  },
  "language_info": {
   "codemirror_mode": {
    "name": "ipython",
    "version": 3
   },
   "file_extension": ".py",
   "mimetype": "text/x-python",
   "name": "python",
   "nbconvert_exporter": "python",
   "pygments_lexer": "ipython3",
   "version": "3.6.13"
  },
  "orig_nbformat": 4,
  "vscode": {
   "interpreter": {
    "hash": "ad66b2705f4aadff9c01d23bf5235c1c4238398733660e98c65a40d272bf6069"
   }
  }
 },
 "nbformat": 4,
 "nbformat_minor": 2
}
